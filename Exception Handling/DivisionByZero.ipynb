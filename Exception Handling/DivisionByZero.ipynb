{
 "cells": [
  {
   "cell_type": "markdown",
   "id": "f1f9f2da",
   "metadata": {},
   "source": [
    "## Exception Handling\n"
   ]
  },
  {
   "cell_type": "code",
   "execution_count": 5,
   "id": "88cfb689",
   "metadata": {},
   "outputs": [
    {
     "name": "stdout",
     "output_type": "stream",
     "text": [
      "Sorry there is an err as division by zero\n",
      "Ok I have done the division\n"
     ]
    }
   ],
   "source": [
    "a = int(input(\"Please tell your number: \"))\n",
    "\n",
    "try:\n",
    "    print(10/a)\n",
    "except Exception as err:\n",
    "    print(f\"Sorry there is an err as {err}\")\n",
    "else:\n",
    "    print(\"Good there is no exception\")\n",
    "finally:\n",
    "    print(\"Ok I have done the division\")\n"
   ]
  },
  {
   "cell_type": "code",
   "execution_count": 6,
   "id": "119efce9",
   "metadata": {},
   "outputs": [
    {
     "name": "stdout",
     "output_type": "stream",
     "text": [
      "An error occured as Your age must be between 10 and 18\n",
      "The club will start soon...\n"
     ]
    }
   ],
   "source": [
    "age = int(input(\"Please tell your age: \"))\n",
    "\n",
    "try:\n",
    "    if age < 10 or age > 18:\n",
    "        raise ValueError(\"Your age must be between 10 and 18\")\n",
    "    else:\n",
    "        print(\"Welcome to club\")\n",
    "except Exception as err:\n",
    "    print(f\"An error occured as {err}\")\n",
    "\n",
    "print(\"The club will start soon...\")"
   ]
  }
 ],
 "metadata": {
  "kernelspec": {
   "display_name": "base",
   "language": "python",
   "name": "python3"
  },
  "language_info": {
   "codemirror_mode": {
    "name": "ipython",
    "version": 3
   },
   "file_extension": ".py",
   "mimetype": "text/x-python",
   "name": "python",
   "nbconvert_exporter": "python",
   "pygments_lexer": "ipython3",
   "version": "3.12.7"
  }
 },
 "nbformat": 4,
 "nbformat_minor": 5
}
