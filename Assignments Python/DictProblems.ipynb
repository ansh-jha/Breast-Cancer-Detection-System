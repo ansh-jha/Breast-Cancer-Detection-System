{
 "cells": [
  {
   "cell_type": "markdown",
   "id": "a915ccde",
   "metadata": {},
   "source": [
    "##  Dictionary Problems"
   ]
  },
  {
   "cell_type": "code",
   "execution_count": 4,
   "id": "4cadccf7",
   "metadata": {},
   "outputs": [
    {
     "name": "stdout",
     "output_type": "stream",
     "text": [
      "<class 'dict'>\n",
      "100\n"
     ]
    }
   ],
   "source": [
    "dicto = {10:100, 20:200, 30:300}\n",
    "print(type(dicto))\n",
    "print(dicto[10])"
   ]
  },
  {
   "cell_type": "code",
   "execution_count": 6,
   "id": "4282f255",
   "metadata": {},
   "outputs": [
    {
     "name": "stdout",
     "output_type": "stream",
     "text": [
      "{10: 20, 20: 200, 50: 500}\n"
     ]
    }
   ],
   "source": [
    "dicto[10] = 20 #updating\n",
    "dicto[50] = 500 #creating\n",
    "\n",
    "del dicto[30]\n",
    "print(dicto)"
   ]
  },
  {
   "cell_type": "code",
   "execution_count": 9,
   "id": "2e315ccd",
   "metadata": {},
   "outputs": [
    {
     "name": "stdout",
     "output_type": "stream",
     "text": [
      "10 : 20\n",
      "20 : 200\n",
      "50 : 500\n"
     ]
    }
   ],
   "source": [
    "for i in dicto:\n",
    "    print(i, ':', dicto[i])"
   ]
  }
 ],
 "metadata": {
  "kernelspec": {
   "display_name": "base",
   "language": "python",
   "name": "python3"
  },
  "language_info": {
   "codemirror_mode": {
    "name": "ipython",
    "version": 3
   },
   "file_extension": ".py",
   "mimetype": "text/x-python",
   "name": "python",
   "nbconvert_exporter": "python",
   "pygments_lexer": "ipython3",
   "version": "3.12.7"
  }
 },
 "nbformat": 4,
 "nbformat_minor": 5
}
