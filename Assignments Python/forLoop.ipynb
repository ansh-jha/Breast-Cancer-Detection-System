{
 "cells": [
  {
   "cell_type": "markdown",
   "id": "b0764efd",
   "metadata": {},
   "source": [
    "## Loops\n"
   ]
  },
  {
   "cell_type": "code",
   "execution_count": 7,
   "id": "d8a6d132",
   "metadata": {},
   "outputs": [],
   "source": [
    "# for i in range(1,11):\n",
    "#     print(5*i)"
   ]
  },
  {
   "cell_type": "code",
   "execution_count": 6,
   "id": "874d3c70",
   "metadata": {},
   "outputs": [],
   "source": [
    "# a = \"SHERYIANS TEACHES INDUSTRY THINGS\"\n",
    "\n",
    "# for i in range(len(a)):\n",
    "#     print(a[i])"
   ]
  },
  {
   "cell_type": "code",
   "execution_count": 9,
   "id": "9f347c1c",
   "metadata": {},
   "outputs": [],
   "source": [
    "# for i in range(1,21):\n",
    "#     if i == 15:\n",
    "#         break\n",
    "#     else:\n",
    "#         print(i)"
   ]
  },
  {
   "cell_type": "code",
   "execution_count": 11,
   "id": "f7a62292",
   "metadata": {},
   "outputs": [],
   "source": [
    "# for i in range(1,21):\n",
    "#     if i == 15:\n",
    "#         continue\n",
    "#     else:\n",
    "#         print(i)"
   ]
  },
  {
   "cell_type": "code",
   "execution_count": null,
   "id": "9a24c18c",
   "metadata": {},
   "outputs": [
    {
     "name": "stdout",
     "output_type": "stream",
     "text": [
      "Hello, World!\n",
      "Hello, World!\n",
      "Hello, World!\n",
      "Hello, World!\n",
      "Hello, World!\n",
      "Hello, World!\n"
     ]
    }
   ],
   "source": [
    "## Example 1: Print value n times\n",
    "num = int(input(\"Enter a number\"))\n",
    "\n",
    "for i in range(num):\n",
    "    print(\"Hello, World!\")"
   ]
  }
 ],
 "metadata": {
  "kernelspec": {
   "display_name": "base",
   "language": "python",
   "name": "python3"
  },
  "language_info": {
   "codemirror_mode": {
    "name": "ipython",
    "version": 3
   },
   "file_extension": ".py",
   "mimetype": "text/x-python",
   "name": "python",
   "nbconvert_exporter": "python",
   "pygments_lexer": "ipython3",
   "version": "3.12.7"
  }
 },
 "nbformat": 4,
 "nbformat_minor": 5
}
