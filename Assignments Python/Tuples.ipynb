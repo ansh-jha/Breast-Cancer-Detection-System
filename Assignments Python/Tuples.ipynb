{
 "cells": [
  {
   "cell_type": "markdown",
   "id": "3d7c2096",
   "metadata": {},
   "source": [
    "## Tuple Problems"
   ]
  },
  {
   "cell_type": "code",
   "execution_count": 1,
   "id": "5a500ba8",
   "metadata": {},
   "outputs": [
    {
     "name": "stdout",
     "output_type": "stream",
     "text": [
      "3\n"
     ]
    }
   ],
   "source": [
    "num = (1,2,5,11,1,7)\n",
    "\n",
    "index = num.index(11)\n",
    "print(index)"
   ]
  },
  {
   "cell_type": "code",
   "execution_count": null,
   "id": "eacafdd1",
   "metadata": {},
   "outputs": [
    {
     "name": "stdout",
     "output_type": "stream",
     "text": [
      "1 2 4\n"
     ]
    }
   ],
   "source": [
    "## Unpacking with tuple\n",
    "a,b,c = (1,2,4)\n",
    "print(a,b,c)"
   ]
  }
 ],
 "metadata": {
  "kernelspec": {
   "display_name": "base",
   "language": "python",
   "name": "python3"
  },
  "language_info": {
   "codemirror_mode": {
    "name": "ipython",
    "version": 3
   },
   "file_extension": ".py",
   "mimetype": "text/x-python",
   "name": "python",
   "nbconvert_exporter": "python",
   "pygments_lexer": "ipython3",
   "version": "3.12.7"
  }
 },
 "nbformat": 4,
 "nbformat_minor": 5
}
