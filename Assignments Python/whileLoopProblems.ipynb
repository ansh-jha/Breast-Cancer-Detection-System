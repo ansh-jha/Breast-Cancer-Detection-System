{
 "cells": [
  {
   "cell_type": "markdown",
   "id": "1a64ddf5",
   "metadata": {},
   "source": [
    "## While Loop Problems"
   ]
  },
  {
   "cell_type": "code",
   "execution_count": 1,
   "id": "e693bae2",
   "metadata": {},
   "outputs": [
    {
     "name": "stdout",
     "output_type": "stream",
     "text": [
      "6\n",
      "5\n",
      "2\n"
     ]
    }
   ],
   "source": [
    "a = 256\n",
    "\n",
    "while a > 0:\n",
    "    print(a % 10)\n",
    "    a = a // 10"
   ]
  },
  {
   "cell_type": "code",
   "execution_count": 2,
   "id": "abb54bb4",
   "metadata": {},
   "outputs": [
    {
     "name": "stdout",
     "output_type": "stream",
     "text": [
      "675\n"
     ]
    }
   ],
   "source": [
    "## Reverse a number\n",
    "a = int(input(\"Tell your number\"))\n",
    "\n",
    "rev = 0\n",
    "while a > 0:\n",
    "    rem = a % 10\n",
    "    rev = rev * 10 + rem\n",
    "    a = a//10\n",
    "print(rev)"
   ]
  },
  {
   "cell_type": "code",
   "execution_count": 3,
   "id": "e455fad5",
   "metadata": {},
   "outputs": [
    {
     "name": "stdout",
     "output_type": "stream",
     "text": [
      "Palindrome Number\n"
     ]
    }
   ],
   "source": [
    "## Check Palindrome number\n",
    "a = int(input(\"Tell your number\"))\n",
    "copy = a\n",
    "rev = 0\n",
    "while a > 0:\n",
    "    rem = a % 10\n",
    "    rev = rev * 10 + rem\n",
    "    a = a//10\n",
    "\n",
    "if copy == rev:\n",
    "    print(\"Palindrome Number\")\n",
    "else:\n",
    "    print(\"Not a Palindrome number\")"
   ]
  },
  {
   "cell_type": "code",
   "execution_count": 7,
   "id": "85d54fcb",
   "metadata": {},
   "outputs": [
    {
     "name": "stdout",
     "output_type": "stream",
     "text": [
      "Go a little lower\n",
      "Go a little lower\n",
      "Go a little lower\n",
      "Go a little lower\n",
      "Go a little lower\n",
      "Go a little upper\n",
      "You are right! You guessed the number in 7 tries\n"
     ]
    }
   ],
   "source": [
    "import random\n",
    "\n",
    "num = random.randint(1,10)\n",
    "tries = 0\n",
    "while True:\n",
    "    guess = int(input(\"Please enter your number:\"))\n",
    "\n",
    "    if num == guess:\n",
    "        tries+=1\n",
    "        print(f\"You are right! You guessed the number in {tries} tries\")\n",
    "        break\n",
    "    elif num < guess:\n",
    "        tries+=1\n",
    "        print(\"Go a little upper\")\n",
    "    elif num > guess:\n",
    "        tries+=1\n",
    "        print(\"Go a little lower\")\n",
    "    else:\n",
    "        tries+=1\n",
    "        print(\"Sorry! You are wrong\")"
   ]
  },
  {
   "cell_type": "code",
   "execution_count": null,
   "id": "2436341d",
   "metadata": {},
   "outputs": [],
   "source": []
  }
 ],
 "metadata": {
  "kernelspec": {
   "display_name": "base",
   "language": "python",
   "name": "python3"
  },
  "language_info": {
   "codemirror_mode": {
    "name": "ipython",
    "version": 3
   },
   "file_extension": ".py",
   "mimetype": "text/x-python",
   "name": "python",
   "nbconvert_exporter": "python",
   "pygments_lexer": "ipython3",
   "version": "3.12.7"
  }
 },
 "nbformat": 4,
 "nbformat_minor": 5
}
