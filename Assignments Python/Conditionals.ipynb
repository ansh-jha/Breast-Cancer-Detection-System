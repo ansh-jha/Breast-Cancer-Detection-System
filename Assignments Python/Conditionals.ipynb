{
 "cells": [
  {
   "cell_type": "markdown",
   "id": "2a3d8a4b",
   "metadata": {},
   "source": [
    "## Conditionals Assignment"
   ]
  },
  {
   "cell_type": "code",
   "execution_count": null,
   "id": "ce6fce40",
   "metadata": {},
   "outputs": [
    {
     "name": "stdout",
     "output_type": "stream",
     "text": [
      "Num2 is greater\n"
     ]
    }
   ],
   "source": [
    "##Ex 1: Accept two numbers and print the greatest between them.\n",
    "num1 = 10\n",
    "num2 = 12\n",
    "if(num1 > num2):\n",
    "    print(\"Num1 is greater\")\n",
    "else:\n",
    "    print(\"Num2 is greater\")"
   ]
  },
  {
   "cell_type": "code",
   "execution_count": 12,
   "id": "420ab182",
   "metadata": {},
   "outputs": [
    {
     "name": "stdout",
     "output_type": "stream",
     "text": [
      "Good Morning Sir\n"
     ]
    }
   ],
   "source": [
    "## Ex 2: Accept gender from user and print greeting message\n",
    "gen = input(\"Please tell your gender as character (M or F)\")\n",
    "\n",
    "if gen == 'M' or gen == 'm':\n",
    "    print(\"Good Morning Sir\")\n",
    "elif gen == 'F' or gen == 'f':\n",
    "    print(\"Good Morning Mam\")\n",
    "else:\n",
    "    print(\"Unidentified Gender\")"
   ]
  },
  {
   "cell_type": "code",
   "execution_count": null,
   "id": "9891fc61",
   "metadata": {},
   "outputs": [
    {
     "name": "stdout",
     "output_type": "stream",
     "text": [
      "10 is Even\n"
     ]
    }
   ],
   "source": [
    "## Ex 3: Num is even or Odd from user\n",
    "num = int(input(\"Please enter the number:\"))\n",
    "\n",
    "if num % 2 == 0:\n",
    "    print(f\"{num} is Even\")\n",
    "else:\n",
    "    print(f\"{num} is Odd\")"
   ]
  },
  {
   "cell_type": "code",
   "execution_count": 15,
   "id": "3abe91be",
   "metadata": {},
   "outputs": [
    {
     "name": "stdout",
     "output_type": "stream",
     "text": [
      "1900 is a normal year\n"
     ]
    }
   ],
   "source": [
    "## Ex 4: Leap Year\n",
    "year = int(input(\"Tell your year\"))\n",
    "\n",
    "if year % 100 == 0 and year % 400 == 0:\n",
    "    print(f\"{year} is a leap year\")\n",
    "elif year % 100 != 0 and year % 4 == 0:\n",
    "    print(f\"{year} is a leap year\")\n",
    "else:\n",
    "    print(f\"{year} is a normal year\")"
   ]
  },
  {
   "cell_type": "code",
   "execution_count": 18,
   "id": "da17ed5f",
   "metadata": {},
   "outputs": [
    {
     "name": "stdout",
     "output_type": "stream",
     "text": [
      "Ansh is eligible to vote\n"
     ]
    }
   ],
   "source": [
    "## Ex 5: Valid Voter\n",
    "name = input(\"Please enter your name:\")\n",
    "age = int(input(\"Please enter your age:\"))\n",
    "\n",
    "if age >= 18:\n",
    "    print(f\"{name} is eligible to vote\")\n",
    "else:\n",
    "    print(f\"{name} is not eligible to vote\")"
   ]
  }
 ],
 "metadata": {
  "kernelspec": {
   "display_name": "base",
   "language": "python",
   "name": "python3"
  },
  "language_info": {
   "codemirror_mode": {
    "name": "ipython",
    "version": 3
   },
   "file_extension": ".py",
   "mimetype": "text/x-python",
   "name": "python",
   "nbconvert_exporter": "python",
   "pygments_lexer": "ipython3",
   "version": "3.12.7"
  }
 },
 "nbformat": 4,
 "nbformat_minor": 5
}
