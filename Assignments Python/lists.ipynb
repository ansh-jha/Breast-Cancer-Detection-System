{
 "cells": [
  {
   "cell_type": "markdown",
   "id": "c0052c16",
   "metadata": {},
   "source": [
    "## List Problems"
   ]
  },
  {
   "cell_type": "code",
   "execution_count": 2,
   "id": "2cb97fd5",
   "metadata": {},
   "outputs": [
    {
     "name": "stdout",
     "output_type": "stream",
     "text": [
      "Positive numbers are:\n",
      "13\n",
      "13\n",
      "18\n",
      "Negative numbers are:\n",
      "-12\n",
      "-23\n",
      "-45\n"
     ]
    }
   ],
   "source": [
    "num = [-12, 13, -23, 13, 18, -45]\n",
    "\n",
    "print(\"Positive numbers are:\")\n",
    "for i in range(len(num)):\n",
    "    if num[i] >= 0:\n",
    "        print(num[i])\n",
    "\n",
    "print(\"Negative numbers are:\")\n",
    "for i in range(len(num)):\n",
    "    if num[i] < 0:\n",
    "        print(num[i])"
   ]
  },
  {
   "cell_type": "code",
   "execution_count": 5,
   "id": "4d652b89",
   "metadata": {},
   "outputs": [
    {
     "name": "stdout",
     "output_type": "stream",
     "text": [
      "-6\n"
     ]
    }
   ],
   "source": [
    "num = [-12, 13, -23, 13, 18, -45]\n",
    "\n",
    "sum = 0\n",
    "\n",
    "for i in num:\n",
    "    sum += i\n",
    "\n",
    "mean = sum / len(num)\n",
    "print(int(mean))"
   ]
  },
  {
   "cell_type": "code",
   "execution_count": 6,
   "id": "43ba2511",
   "metadata": {},
   "outputs": [
    {
     "name": "stdout",
     "output_type": "stream",
     "text": [
      "The largest number is 568 at index 5\n"
     ]
    }
   ],
   "source": [
    "## Largest number in a list\n",
    "\n",
    "l = [12, 567, 43, 234, 347, 568, 45, 7]\n",
    "\n",
    "largest = l[0]\n",
    "index = 0\n",
    "\n",
    "for i in range(len(l)):\n",
    "    if l[i] > largest:\n",
    "        largest = l[i]\n",
    "        index = i\n",
    "\n",
    "print(f\"The largest number is {largest} at index {index}\")"
   ]
  },
  {
   "cell_type": "code",
   "execution_count": 8,
   "id": "52683782",
   "metadata": {},
   "outputs": [
    {
     "name": "stdout",
     "output_type": "stream",
     "text": [
      "17 19\n"
     ]
    }
   ],
   "source": [
    "l = [12, 16, 13, 19, 17]\n",
    "\n",
    "largest = l[0]\n",
    "sec_largest = l[0]\n",
    "\n",
    "for i in l:\n",
    "    if i > largest:\n",
    "        sec_largest = largest\n",
    "        largest = i\n",
    "    elif i > sec_largest:\n",
    "        sec_largest = i\n",
    "    \n",
    "print(sec_largest, largest)"
   ]
  },
  {
   "cell_type": "code",
   "execution_count": 11,
   "id": "87b61b85",
   "metadata": {},
   "outputs": [
    {
     "name": "stdout",
     "output_type": "stream",
     "text": [
      "Your list is sorted.\n"
     ]
    }
   ],
   "source": [
    "## Check if list is sorted\n",
    "\n",
    "a = [12, 13, 14, 15, 16]\n",
    "\n",
    "for i in range(len(a)-1):\n",
    "    if a[i] < a[i+1]:\n",
    "        continue\n",
    "    else:\n",
    "        print(\"Your list is not sorted.\")\n",
    "        break\n",
    "else:\n",
    "    print(\"Your list is sorted.\")"
   ]
  }
 ],
 "metadata": {
  "kernelspec": {
   "display_name": "base",
   "language": "python",
   "name": "python3"
  },
  "language_info": {
   "codemirror_mode": {
    "name": "ipython",
    "version": 3
   },
   "file_extension": ".py",
   "mimetype": "text/x-python",
   "name": "python",
   "nbconvert_exporter": "python",
   "pygments_lexer": "ipython3",
   "version": "3.12.7"
  }
 },
 "nbformat": 4,
 "nbformat_minor": 5
}
