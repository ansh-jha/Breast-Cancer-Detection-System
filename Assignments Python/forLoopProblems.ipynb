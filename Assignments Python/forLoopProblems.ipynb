{
 "cells": [
  {
   "cell_type": "markdown",
   "id": "16e73884",
   "metadata": {},
   "source": [
    "## For Loop Problems"
   ]
  },
  {
   "cell_type": "code",
   "execution_count": null,
   "id": "5f9657ab",
   "metadata": {},
   "outputs": [],
   "source": [
    "## Print natural numbers upto n\n",
    "\n",
    "# n = int(input(\"Please enter a number: \"))\n",
    "\n",
    "# for i in range(1, n+1):\n",
    "#     print(i)"
   ]
  },
  {
   "cell_type": "code",
   "execution_count": 5,
   "id": "6efac7a5",
   "metadata": {},
   "outputs": [],
   "source": [
    "## Print table\n",
    "\n",
    "# n = int(input(\"Please enter a number: \"))\n",
    "\n",
    "# for i in range(1, 11):\n",
    "#     print(f\"{n} * {i} = {n*i}\")\n"
   ]
  },
  {
   "cell_type": "code",
   "execution_count": 11,
   "id": "a5053f7a",
   "metadata": {},
   "outputs": [
    {
     "name": "stdout",
     "output_type": "stream",
     "text": [
      "Your sum is 15\n"
     ]
    }
   ],
   "source": [
    "## Print sum upto n terms\n",
    "n = int(input(\"Please enter a number: \"))\n",
    "\n",
    "sum = 0\n",
    "for i in range(n+1):\n",
    "    sum+= i\n",
    "print(f\"Your sum is {sum}\")\n"
   ]
  },
  {
   "cell_type": "code",
   "execution_count": 1,
   "id": "9e77df4e",
   "metadata": {},
   "outputs": [
    {
     "name": "stdout",
     "output_type": "stream",
     "text": [
      "Your even and odd sum are 420, 400\n"
     ]
    }
   ],
   "source": [
    "## Even Odd number\n",
    "n = int(input(\"Please enter the number:\"))\n",
    "even = 0\n",
    "odd = 0\n",
    "\n",
    "for i in range(1, n+1):\n",
    "    if i%2 == 0:\n",
    "        even += i\n",
    "    else:\n",
    "        odd += i\n",
    "print(f\"Your even and odd sum are {even}, {odd}\")"
   ]
  },
  {
   "cell_type": "code",
   "execution_count": 3,
   "id": "d7c2fe43",
   "metadata": {},
   "outputs": [],
   "source": [
    "## Fcators of a number\n",
    "# n = int(input(\"Please enter the number:\"))\n",
    "\n",
    "# for i in range(1, n+1):\n",
    "#     if n%i == 0:\n",
    "#         print(i)"
   ]
  },
  {
   "cell_type": "code",
   "execution_count": null,
   "id": "32cf0ac6",
   "metadata": {},
   "outputs": [
    {
     "name": "stdout",
     "output_type": "stream",
     "text": [
      "Your number is perfect\n"
     ]
    }
   ],
   "source": [
    "## Is a perfect number\n",
    "\n",
    "n = int(input(\"Please enter the number:\"))\n",
    "sum = 0\n",
    "for i in range(1,n):\n",
    "    if n%i == 0:\n",
    "         sum += i\n",
    "\n",
    "if sum == n:\n",
    "     print(\"Your number is perfect\")\n",
    "else:\n",
    "     print(\"Not a perfect number\")\n"
   ]
  },
  {
   "cell_type": "code",
   "execution_count": 8,
   "id": "cc3032e8",
   "metadata": {},
   "outputs": [
    {
     "name": "stdout",
     "output_type": "stream",
     "text": [
      "Your number is not prime\n"
     ]
    }
   ],
   "source": [
    "## Is prime or not\n",
    "n = int(input(\"Please enter the number:\"))\n",
    "\n",
    "count = 0\n",
    "\n",
    "for i in range(1, n+1):\n",
    "    if n%i == 0:\n",
    "        count += 1\n",
    "\n",
    "if count == 2:\n",
    "    print(\"Your number is prime\")\n",
    "else:\n",
    "    print(\"Your number is not prime\")"
   ]
  },
  {
   "cell_type": "code",
   "execution_count": 9,
   "id": "c206043d",
   "metadata": {},
   "outputs": [
    {
     "name": "stdout",
     "output_type": "stream",
     "text": [
      "SNAIYREHS\n"
     ]
    }
   ],
   "source": [
    "## Reverse a string\n",
    "a = \"SHERYIANS\"\n",
    "\n",
    "b = \"\"\n",
    "for i in range(len(a)-1,-1,-1):\n",
    "    b = b + a[i]\n",
    "\n",
    "print(b)"
   ]
  },
  {
   "cell_type": "code",
   "execution_count": 11,
   "id": "c7343962",
   "metadata": {},
   "outputs": [
    {
     "name": "stdout",
     "output_type": "stream",
     "text": [
      "It is Palindrome\n"
     ]
    }
   ],
   "source": [
    "## Check String Palindrome\n",
    "a = \"NAMAN\"\n",
    "\n",
    "b = \"\"\n",
    "for i in range(len(a)-1,-1,-1):\n",
    "    b = b + a[i]\n",
    "\n",
    "if b == a:\n",
    "    print(\"It is Palindrome\")\n",
    "else:\n",
    "    print(\"Not a Palindrome\")"
   ]
  }
 ],
 "metadata": {
  "kernelspec": {
   "display_name": "base",
   "language": "python",
   "name": "python3"
  },
  "language_info": {
   "codemirror_mode": {
    "name": "ipython",
    "version": 3
   },
   "file_extension": ".py",
   "mimetype": "text/x-python",
   "name": "python",
   "nbconvert_exporter": "python",
   "pygments_lexer": "ipython3",
   "version": "3.12.7"
  }
 },
 "nbformat": 4,
 "nbformat_minor": 5
}
