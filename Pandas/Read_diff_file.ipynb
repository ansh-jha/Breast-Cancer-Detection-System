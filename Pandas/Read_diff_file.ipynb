{
 "cells": [
  {
   "cell_type": "markdown",
   "id": "969f6b63",
   "metadata": {},
   "source": [
    "## Read Different File"
   ]
  },
  {
   "cell_type": "code",
   "execution_count": null,
   "id": "893339af",
   "metadata": {
    "vscode": {
     "languageId": "plaintext"
    }
   },
   "outputs": [],
   "source": []
  }
 ],
 "metadata": {
  "language_info": {
   "name": "python"
  }
 },
 "nbformat": 4,
 "nbformat_minor": 5
}
