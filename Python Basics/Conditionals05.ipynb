{
 "cells": [
  {
   "cell_type": "markdown",
   "id": "0d5bfd53",
   "metadata": {},
   "source": [
    "## Condtional Statements in Python"
   ]
  },
  {
   "cell_type": "code",
   "execution_count": 1,
   "id": "7e20631f",
   "metadata": {},
   "outputs": [
    {
     "name": "stdout",
     "output_type": "stream",
     "text": [
      "You are allowed to vote in the elections.\n"
     ]
    }
   ],
   "source": [
    "## if statement\n",
    "age = 20\n",
    "\n",
    "if age >= 18:\n",
    "    print(\"You are allowed to vote in the elections.\")\n"
   ]
  },
  {
   "cell_type": "code",
   "execution_count": null,
   "id": "60563d96",
   "metadata": {},
   "outputs": [
    {
     "name": "stdout",
     "output_type": "stream",
     "text": [
      "You are not eligible as you are minor\n"
     ]
    }
   ],
   "source": [
    "## else statement\n",
    "age = 16\n",
    "if(age >= 18):\n",
    "    print(\"You are eligible for voting\")\n",
    "else:\n",
    "    print(\"You are not eligible as you are minor\")\n"
   ]
  },
  {
   "cell_type": "code",
   "execution_count": null,
   "id": "9dd3a9db",
   "metadata": {},
   "outputs": [],
   "source": [
    "## elif statement\n",
    "age = 20\n",
    "if(age < 13):\n",
    "    print(\"You are a child\")\n",
    "elif(age < 18):\n",
    "    print(\"You are a teenager\")\n",
    "else:\n",
    "    print(\"You are an adult\")"
   ]
  },
  {
   "cell_type": "code",
   "execution_count": 8,
   "id": "fe2553b2",
   "metadata": {},
   "outputs": [
    {
     "name": "stdout",
     "output_type": "stream",
     "text": [
      "The number is positive\n",
      "The number is even\n"
     ]
    }
   ],
   "source": [
    "## Nested conditional statement\n",
    "num = int(input(\"Enter your number:\"))\n",
    "if num > 0:\n",
    "    print(\"The number is positive\")\n",
    "    if(num % 2 == 0):\n",
    "        print(\"The number is even\")\n",
    "    else:\n",
    "        print(\"The number is odd\")\n",
    "else:\n",
    "    print(\"The number is either zero or negative\")"
   ]
  },
  {
   "cell_type": "code",
   "execution_count": 17,
   "id": "0f372348",
   "metadata": {},
   "outputs": [
    {
     "name": "stdout",
     "output_type": "stream",
     "text": [
      "1600 is a leap year\n"
     ]
    }
   ],
   "source": [
    "## Leap year\n",
    "year = int(input(\"Enter the year:\"))\n",
    "\n",
    "if(year%4 == 0):\n",
    "    if(year%100 == 0):\n",
    "        if(year%400 == 0):\n",
    "            print(year,\"is a leap year\")\n",
    "        else:\n",
    "            print(year,\"is not a leap year\")\n",
    "    else:\n",
    "        print(year,\"is a leap year\")\n",
    "else:\n",
    "    print(year,\"is not a leap year\")"
   ]
  }
 ],
 "metadata": {
  "kernelspec": {
   "display_name": "Python 3",
   "language": "python",
   "name": "python3"
  },
  "language_info": {
   "codemirror_mode": {
    "name": "ipython",
    "version": 3
   },
   "file_extension": ".py",
   "mimetype": "text/x-python",
   "name": "python",
   "nbconvert_exporter": "python",
   "pygments_lexer": "ipython3",
   "version": "3.12.0"
  }
 },
 "nbformat": 4,
 "nbformat_minor": 5
}
