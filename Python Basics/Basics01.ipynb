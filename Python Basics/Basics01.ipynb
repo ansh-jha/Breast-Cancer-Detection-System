{
 "cells": [
  {
   "cell_type": "markdown",
   "id": "7999d329",
   "metadata": {},
   "source": [
    "#### Python Basics"
   ]
  },
  {
   "cell_type": "code",
   "execution_count": 4,
   "id": "80330397",
   "metadata": {},
   "outputs": [
    {
     "name": "stdout",
     "output_type": "stream",
     "text": [
      "This is a course to learn python.\n"
     ]
    }
   ],
   "source": [
    "print(\"This is a course to learn python.\")"
   ]
  },
  {
   "cell_type": "code",
   "execution_count": null,
   "id": "80a52d6f",
   "metadata": {},
   "outputs": [],
   "source": [
    "## This is a single line comment\n",
    "\n",
    "'''\n",
    "This is a multi line comment\n",
    "'''"
   ]
  },
  {
   "cell_type": "code",
   "execution_count": 6,
   "id": "cfbc4096",
   "metadata": {},
   "outputs": [
    {
     "name": "stdout",
     "output_type": "stream",
     "text": [
      "Ansh\n",
      "Jha\n"
     ]
    }
   ],
   "source": [
    "## Case sensitivity\n",
    "name = \"Ansh\"\n",
    "Name = \"Jha\"\n",
    "\n",
    "print(name)\n",
    "print(Name)"
   ]
  },
  {
   "cell_type": "code",
   "execution_count": null,
   "id": "16a8f290",
   "metadata": {},
   "outputs": [
    {
     "name": "stdout",
     "output_type": "stream",
     "text": [
      "32\n",
      "32\n"
     ]
    }
   ],
   "source": [
    "## Indentation\n",
    "age = 32\n",
    "if (age > 30):\n",
    "    print(age) ## This is inside indentation\n",
    "print(age) // ## This is outside indentation"
   ]
  },
  {
   "cell_type": "code",
   "execution_count": 10,
   "id": "2fb0601a",
   "metadata": {},
   "outputs": [
    {
     "name": "stdout",
     "output_type": "stream",
     "text": [
      "15\n"
     ]
    }
   ],
   "source": [
    "## Multiple statements on single line\n",
    "x=5; y=10; z = x+y;\n",
    "print(z)"
   ]
  },
  {
   "cell_type": "code",
   "execution_count": 14,
   "id": "4e4b5686",
   "metadata": {},
   "outputs": [
    {
     "data": {
      "text/plain": [
       "int"
      ]
     },
     "execution_count": 14,
     "metadata": {},
     "output_type": "execute_result"
    }
   ],
   "source": [
    "## Variable assignment\n",
    "age = 32 ## age is an integer\n",
    "name = \"Ansh\" ## name is a string\n",
    "\n",
    "## Check type of variables\n",
    "type(age)\n"
   ]
  },
  {
   "cell_type": "code",
   "execution_count": 16,
   "id": "e63996c4",
   "metadata": {},
   "outputs": [
    {
     "name": "stdout",
     "output_type": "stream",
     "text": [
      "<class 'int'>\n",
      "<class 'str'>\n"
     ]
    }
   ],
   "source": [
    "## Type inference\n",
    "variable = 10\n",
    "print(type(variable))\n",
    "variable = \"Ansh\"\n",
    "print(type(variable))"
   ]
  },
  {
   "cell_type": "code",
   "execution_count": 19,
   "id": "f59bc7c2",
   "metadata": {},
   "outputs": [
    {
     "name": "stdout",
     "output_type": "stream",
     "text": [
      "Correct Indentation\n",
      "This will print\n",
      "Outside the if block\n"
     ]
    }
   ],
   "source": [
    "## Code examples of indentation\n",
    "if True:\n",
    "    print(\"Correct Indentation\")\n",
    "    if False:\n",
    "        print(\"This won't print\")\n",
    "    print(\"This will print\")\n",
    "print(\"Outside the if block\")"
   ]
  }
 ],
 "metadata": {
  "kernelspec": {
   "display_name": "Python 3",
   "language": "python",
   "name": "python3"
  },
  "language_info": {
   "codemirror_mode": {
    "name": "ipython",
    "version": 3
   },
   "file_extension": ".py",
   "mimetype": "text/x-python",
   "name": "python",
   "nbconvert_exporter": "python",
   "pygments_lexer": "ipython3",
   "version": "3.12.0"
  }
 },
 "nbformat": 4,
 "nbformat_minor": 5
}
