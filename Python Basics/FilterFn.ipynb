{
 "cells": [
  {
   "cell_type": "markdown",
   "id": "ff274f83",
   "metadata": {},
   "source": [
    "## Filter Functions"
   ]
  },
  {
   "cell_type": "code",
   "execution_count": 3,
   "id": "184cffdc",
   "metadata": {},
   "outputs": [],
   "source": [
    "def isEven(num):\n",
    "    if num % 2 == 0:\n",
    "        return True\n",
    "\n",
    "## isEven(12)"
   ]
  },
  {
   "cell_type": "code",
   "execution_count": 4,
   "id": "c235183c",
   "metadata": {},
   "outputs": [
    {
     "data": {
      "text/plain": [
       "[2, 4, 6, 8, 10, 12]"
      ]
     },
     "execution_count": 4,
     "metadata": {},
     "output_type": "execute_result"
    }
   ],
   "source": [
    "## Filter fn\n",
    "lst = [1,2,3,4,5,6,7,8,9,10,11,12]\n",
    "\n",
    "list(filter(isEven, lst))"
   ]
  },
  {
   "cell_type": "code",
   "execution_count": 1,
   "id": "8329d733",
   "metadata": {},
   "outputs": [
    {
     "name": "stdout",
     "output_type": "stream",
     "text": [
      "[6, 7, 8, 9]\n"
     ]
    }
   ],
   "source": [
    "## Filter with lambda fn\n",
    "numbers = [1,2,3,4,5,6,7,8,9]\n",
    "greater_than_five = list(filter(lambda x: x>5, numbers))\n",
    "print(greater_than_five)"
   ]
  },
  {
   "cell_type": "code",
   "execution_count": 1,
   "id": "8e8a4e04",
   "metadata": {},
   "outputs": [
    {
     "name": "stdout",
     "output_type": "stream",
     "text": [
      "False\n"
     ]
    }
   ],
   "source": [
    "print(not(True))"
   ]
  }
 ],
 "metadata": {
  "kernelspec": {
   "display_name": "base",
   "language": "python",
   "name": "python3"
  },
  "language_info": {
   "codemirror_mode": {
    "name": "ipython",
    "version": 3
   },
   "file_extension": ".py",
   "mimetype": "text/x-python",
   "name": "python",
   "nbconvert_exporter": "python",
   "pygments_lexer": "ipython3",
   "version": "3.12.7"
  }
 },
 "nbformat": 4,
 "nbformat_minor": 5
}
