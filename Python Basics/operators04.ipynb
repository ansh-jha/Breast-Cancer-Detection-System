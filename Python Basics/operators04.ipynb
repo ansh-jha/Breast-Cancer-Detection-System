{
 "cells": [
  {
   "cell_type": "markdown",
   "id": "5108638b",
   "metadata": {},
   "source": [
    "## Operators in Python"
   ]
  },
  {
   "cell_type": "code",
   "execution_count": 13,
   "id": "42ab50d6",
   "metadata": {},
   "outputs": [
    {
     "name": "stdout",
     "output_type": "stream",
     "text": [
      "35.0\n",
      "5.0\n",
      "300.0\n",
      "1.3333333333333333\n",
      "1.0\n",
      "5.0\n",
      "3.2768e+19\n"
     ]
    }
   ],
   "source": [
    "## Arethematic Operators\n",
    "a = float(input(\"Enter the first number:\"))\n",
    "b = float(input(\"Enter the second number:\"))\n",
    "\n",
    "add_op = a + b\n",
    "sub_op = a - b\n",
    "mul_op = a * b\n",
    "div_op = a / b ## gives values in float\n",
    "floor_div_op = a // b ## gives values in int\n",
    "modulus_op = a % b\n",
    "exponention_op = a ** b\n",
    "\n",
    "print(add_op)\n",
    "print(sub_op)\n",
    "print(mul_op)\n",
    "print(div_op)\n",
    "print(floor_div_op)\n",
    "print(modulus_op)\n",
    "print(exponention_op)"
   ]
  },
  {
   "cell_type": "code",
   "execution_count": null,
   "id": "b549d2bd",
   "metadata": {},
   "outputs": [
    {
     "data": {
      "text/plain": [
       "False"
      ]
     },
     "execution_count": 8,
     "metadata": {},
     "output_type": "execute_result"
    }
   ],
   "source": [
    "## Comparision Operator\n",
    "## == Equal to\n",
    "a = 20\n",
    "b = 15\n",
    "\n",
    "division = a / b\n",
    "floor_division = a // b\n",
    "\n",
    "division == floor_division ## False\n",
    "\n",
    "## != Not Equal to \n",
    "str1 = \"Ansh\"\n",
    "str2 = \"Jha\"\n",
    "\n",
    "str1 != str2 ## True\n",
    "\n",
    "## > Greater than\n",
    "num1 = 45\n",
    "num2 = 55\n",
    "\n",
    "num1 > num2 ## False\n",
    "\n",
    "## < Less than\n",
    "num1 = 55\n",
    "num2 = 67\n",
    "\n",
    "num1 < num2 ## True\n",
    "\n",
    "## Greater than or equal to\n",
    "num1 = 45\n",
    "num2 = 45\n",
    "\n",
    "num1 >= num2 ## True"
   ]
  },
  {
   "cell_type": "code",
   "execution_count": null,
   "id": "8b88229b",
   "metadata": {},
   "outputs": [
    {
     "name": "stdout",
     "output_type": "stream",
     "text": [
      "False\n",
      "False\n"
     ]
    },
    {
     "data": {
      "text/plain": [
       "True"
      ]
     },
     "execution_count": 12,
     "metadata": {},
     "output_type": "execute_result"
    }
   ],
   "source": [
    "## Logical Operators\n",
    "X = True\n",
    "Y = False\n",
    "\n",
    "result = X and Y\n",
    "print(result) ## False -> and needs both True.\n",
    "\n",
    "X = False\n",
    "Y = False\n",
    "\n",
    "result = X or Y ## False if both are false otherwise True\n",
    "print(result)\n",
    "\n",
    "X = False ## Opposite of value in variable\n",
    "not X"
   ]
  }
 ],
 "metadata": {
  "kernelspec": {
   "display_name": "Python 3",
   "language": "python",
   "name": "python3"
  },
  "language_info": {
   "codemirror_mode": {
    "name": "ipython",
    "version": 3
   },
   "file_extension": ".py",
   "mimetype": "text/x-python",
   "name": "python",
   "nbconvert_exporter": "python",
   "pygments_lexer": "ipython3",
   "version": "3.12.0"
  }
 },
 "nbformat": 4,
 "nbformat_minor": 5
}
