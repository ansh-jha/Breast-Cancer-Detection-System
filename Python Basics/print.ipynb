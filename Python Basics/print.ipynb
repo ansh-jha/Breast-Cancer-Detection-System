{
 "cells": [
  {
   "cell_type": "markdown",
   "id": "79abcdf7",
   "metadata": {},
   "source": [
    "## Print Basics"
   ]
  },
  {
   "cell_type": "code",
   "execution_count": 1,
   "id": "9b9e6fcc",
   "metadata": {},
   "outputs": [
    {
     "name": "stdout",
     "output_type": "stream",
     "text": [
      "Love\n"
     ]
    }
   ],
   "source": [
    "print(\"Love\")"
   ]
  },
  {
   "cell_type": "markdown",
   "id": "f3b21e60",
   "metadata": {},
   "source": [
    "## Escape sequence"
   ]
  },
  {
   "cell_type": "code",
   "execution_count": 3,
   "id": "38fa6c87",
   "metadata": {},
   "outputs": [
    {
     "name": "stdout",
     "output_type": "stream",
     "text": [
      "Hi \"Python\"\n",
      "Hi \"Python\"\n"
     ]
    }
   ],
   "source": [
    "print(\"Hi \\\"Python\\\"\")\n",
    "print('Hi \"Python\"')"
   ]
  },
  {
   "cell_type": "code",
   "execution_count": 5,
   "id": "c89b1f3a",
   "metadata": {},
   "outputs": [
    {
     "name": "stdout",
     "output_type": "stream",
     "text": [
      "Message1\n",
      "Message2\n",
      "Message1\tMessage2\n"
     ]
    }
   ],
   "source": [
    "print(\"Message1\\nMessage2\")\n",
    "print(\"Message1\\tMessage2\")"
   ]
  },
  {
   "cell_type": "code",
   "execution_count": 10,
   "id": "a4f17fc0",
   "metadata": {},
   "outputs": [
    {
     "name": "stdout",
     "output_type": "stream",
     "text": [
      "Your Learning Path:\n",
      "\t- Python Basics\n",
      "\t- Data Engineering\n",
      "\t- AI\n"
     ]
    }
   ],
   "source": [
    "##  Challange 1\n",
    "print(\"\"\"Your Learning Path:\n",
    "\\t- Python Basics\n",
    "\\t- Data Engineering\n",
    "\\t- AI\"\"\")"
   ]
  }
 ],
 "metadata": {
  "kernelspec": {
   "display_name": "base",
   "language": "python",
   "name": "python3"
  },
  "language_info": {
   "codemirror_mode": {
    "name": "ipython",
    "version": 3
   },
   "file_extension": ".py",
   "mimetype": "text/x-python",
   "name": "python",
   "nbconvert_exporter": "python",
   "pygments_lexer": "ipython3",
   "version": "3.12.7"
  }
 },
 "nbformat": 4,
 "nbformat_minor": 5
}
