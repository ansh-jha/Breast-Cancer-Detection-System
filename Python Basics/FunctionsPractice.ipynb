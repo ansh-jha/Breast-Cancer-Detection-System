{
 "cells": [
  {
   "cell_type": "markdown",
   "id": "1a328c29",
   "metadata": {},
   "source": [
    "## Functions Practice"
   ]
  },
  {
   "cell_type": "markdown",
   "id": "31c23cac",
   "metadata": {},
   "source": [
    "#### Example 1: Temerature Conversion"
   ]
  },
  {
   "cell_type": "code",
   "execution_count": 1,
   "id": "114b3724",
   "metadata": {},
   "outputs": [
    {
     "name": "stdout",
     "output_type": "stream",
     "text": [
      "77.0\n",
      "25.0\n"
     ]
    }
   ],
   "source": [
    "def convert_temp(temp, unit):\n",
    "    '''This fn converts temperature between Celsius and Farenheit'''\n",
    "    if unit == 'C':\n",
    "        return temp * 9/5 + 32\n",
    "    elif unit == 'F':\n",
    "        return (temp-32)*5/9\n",
    "    else:\n",
    "        return None\n",
    "    \n",
    "print(convert_temp(25,'C'))\n",
    "print(convert_temp(77,'F'))"
   ]
  },
  {
   "cell_type": "markdown",
   "id": "b96b1b25",
   "metadata": {},
   "source": [
    "#### Example 2: Password Strength Checker"
   ]
  },
  {
   "cell_type": "code",
   "execution_count": null,
   "id": "d68a4bd2",
   "metadata": {},
   "outputs": [],
   "source": [
    "def is_strong_password(password):\n",
    "    if len(password) < 8:\n",
    "        return False\n",
    "    if not any(char.isdigit() for char in password):\n",
    "        return False\n",
    "    if not any(char.islower() for char in password):\n",
    "        return False\n",
    "    if not any(char.isupper() for char in password):\n",
    "        return False\n",
    "    if not any(char in '!@#$^&*()_+' for char in password):\n",
    "        return False\n",
    "    return True\n"
   ]
  },
  {
   "cell_type": "code",
   "execution_count": 3,
   "id": "183264ac",
   "metadata": {},
   "outputs": [
    {
     "data": {
      "text/plain": [
       "True"
      ]
     },
     "execution_count": 3,
     "metadata": {},
     "output_type": "execute_result"
    }
   ],
   "source": [
    "is_strong_password('Anshjha@2017')"
   ]
  },
  {
   "cell_type": "markdown",
   "id": "dda32d5a",
   "metadata": {},
   "source": [
    "#### Example 3: Calculate the total cost of items in a shopping cart\n"
   ]
  },
  {
   "cell_type": "code",
   "execution_count": null,
   "id": "02368e97",
   "metadata": {},
   "outputs": [],
   "source": [
    "def calculate_total_cost(cart):\n",
    "    pass\n",
    "\n",
    "cart = [\n",
    "    {'name': 'Apple', 'price':0.5, 'quantity': 4},\n",
    "    \n",
    "\n",
    "]"
   ]
  }
 ],
 "metadata": {
  "kernelspec": {
   "display_name": "base",
   "language": "python",
   "name": "python3"
  },
  "language_info": {
   "codemirror_mode": {
    "name": "ipython",
    "version": 3
   },
   "file_extension": ".py",
   "mimetype": "text/x-python",
   "name": "python",
   "nbconvert_exporter": "python",
   "pygments_lexer": "ipython3",
   "version": "3.12.7"
  }
 },
 "nbformat": 4,
 "nbformat_minor": 5
}
