{
 "cells": [
  {
   "cell_type": "markdown",
   "id": "56f96a41",
   "metadata": {},
   "source": [
    "### Dictionaries in Python"
   ]
  },
  {
   "cell_type": "code",
   "execution_count": null,
   "id": "9f131420",
   "metadata": {},
   "outputs": [
    {
     "name": "stdout",
     "output_type": "stream",
     "text": [
      "<class 'dict'>\n"
     ]
    }
   ],
   "source": [
    "## Creating empty dictionary\n",
    "dict = {}\n",
    "print(type(dict))\n",
    "## Dictionary is just like objects which has key-value pair"
   ]
  },
  {
   "cell_type": "code",
   "execution_count": 3,
   "id": "e1e0dc33",
   "metadata": {},
   "outputs": [
    {
     "name": "stdout",
     "output_type": "stream",
     "text": [
      "{'name': 'Krish', 'age': 21, 'salary': 50000}\n",
      "<class 'dict'>\n"
     ]
    }
   ],
   "source": [
    "employee = {\"name\":\"Krish\",\"age\":21,\"salary\":50000}\n",
    "print(employee)\n",
    "print(type(employee))"
   ]
  },
  {
   "cell_type": "code",
   "execution_count": 13,
   "id": "491941ee",
   "metadata": {},
   "outputs": [
    {
     "name": "stdout",
     "output_type": "stream",
     "text": [
      "{'name': 'Ansh', 'age': 21, 'salary': 50000}\n"
     ]
    }
   ],
   "source": [
    "## Always use single key. Don't use same key name for multiple pairs\n",
    "employee = {\"name\":\"Ansh\",\"age\":21,\"salary\":50000}\n",
    "print(employee)"
   ]
  },
  {
   "cell_type": "code",
   "execution_count": 14,
   "id": "4a15a391",
   "metadata": {},
   "outputs": [
    {
     "name": "stdout",
     "output_type": "stream",
     "text": [
      "50000\n",
      "Ansh\n",
      "Not Available\n",
      "Ansh\n"
     ]
    }
   ],
   "source": [
    "## Accessing Dictionary elements\n",
    "print(employee['salary'])\n",
    "print(employee['name'])\n",
    "\n",
    "## Accessing using get() method\n",
    "print(employee.get('grade',\"Not Available\")) ## None -> not exists\n",
    "print(employee.get('name'))\n"
   ]
  },
  {
   "cell_type": "code",
   "execution_count": 15,
   "id": "03e10893",
   "metadata": {},
   "outputs": [
    {
     "name": "stdout",
     "output_type": "stream",
     "text": [
      "{'name': 'Ansh', 'age': 21, 'salary': 50000}\n"
     ]
    }
   ],
   "source": [
    "## Modifying dict elements\n",
    "## Dict are mutable, so u can add,update or delete elements\n",
    "\n",
    "print(employee)"
   ]
  },
  {
   "cell_type": "code",
   "execution_count": 16,
   "id": "f0b69fe7",
   "metadata": {},
   "outputs": [
    {
     "name": "stdout",
     "output_type": "stream",
     "text": [
      "{'name': 'Ansh', 'age': 21, 'salary': 50000, 'address': 'Bangalore'}\n"
     ]
    }
   ],
   "source": [
    "employee[\"address\"] = \"Bangalore\"\n",
    "print(employee)"
   ]
  },
  {
   "cell_type": "code",
   "execution_count": null,
   "id": "2b27c6ce",
   "metadata": {},
   "outputs": [
    {
     "name": "stdout",
     "output_type": "stream",
     "text": [
      "{'name': 'Ansh', 'age': 21, 'salary': 50000}\n"
     ]
    }
   ],
   "source": [
    "## Deleting elements in a dict\n",
    "del employee['address'] ## deletes key and value pair\n",
    "print(employee)"
   ]
  },
  {
   "cell_type": "code",
   "execution_count": 18,
   "id": "05f75ab6",
   "metadata": {},
   "outputs": [
    {
     "name": "stdout",
     "output_type": "stream",
     "text": [
      "dict_keys(['name', 'age', 'salary'])\n",
      "dict_values(['Ansh', 21, 50000])\n",
      "dict_items([('name', 'Ansh'), ('age', 21), ('salary', 50000)])\n"
     ]
    }
   ],
   "source": [
    "## Dictionary methods\n",
    "keys = employee.keys()\n",
    "print(keys)\n",
    "values = employee.values()\n",
    "print(values)\n",
    "items = employee.items()\n",
    "print(items)"
   ]
  },
  {
   "cell_type": "code",
   "execution_count": 19,
   "id": "5dfd4421",
   "metadata": {},
   "outputs": [
    {
     "name": "stdout",
     "output_type": "stream",
     "text": [
      "{'name': 'Ansh', 'age': 24, 'salary': 50000}\n"
     ]
    }
   ],
   "source": [
    "## Shallow Copy\n",
    "employee[\"age\"] = 24\n",
    "print(employee)"
   ]
  },
  {
   "cell_type": "code",
   "execution_count": null,
   "id": "00bd7f95",
   "metadata": {},
   "outputs": [
    {
     "name": "stdout",
     "output_type": "stream",
     "text": [
      "{'name': 'Ansh', 'age': 21, 'salary': 50000}\n",
      "{'name': 'Ansh', 'age': 24, 'salary': 50000}\n"
     ]
    }
   ],
   "source": [
    "employee_copy = employee.copy()\n",
    "employee[\"age\"] = 21\n",
    "print(employee)\n",
    "print(employee_copy) ## allocates different memory to the copy variable "
   ]
  },
  {
   "cell_type": "code",
   "execution_count": 22,
   "id": "240ca388",
   "metadata": {},
   "outputs": [
    {
     "name": "stdout",
     "output_type": "stream",
     "text": [
      "name\n",
      "age\n",
      "salary\n"
     ]
    }
   ],
   "source": [
    "## Iterating over dictionaries\n",
    "for keys in employee.keys():\n",
    "    print(keys)"
   ]
  },
  {
   "cell_type": "code",
   "execution_count": 23,
   "id": "3e1a0792",
   "metadata": {},
   "outputs": [
    {
     "name": "stdout",
     "output_type": "stream",
     "text": [
      "Ansh\n",
      "21\n",
      "50000\n"
     ]
    }
   ],
   "source": [
    "for values in employee.values():\n",
    "    print(values)"
   ]
  },
  {
   "cell_type": "code",
   "execution_count": 24,
   "id": "f356fea5",
   "metadata": {},
   "outputs": [
    {
     "name": "stdout",
     "output_type": "stream",
     "text": [
      "name:Ansh\n",
      "age:21\n",
      "salary:50000\n"
     ]
    }
   ],
   "source": [
    "for keys,values in employee.items():\n",
    "    print(f\"{keys}:{values}\")"
   ]
  },
  {
   "cell_type": "code",
   "execution_count": 25,
   "id": "412752c3",
   "metadata": {},
   "outputs": [
    {
     "name": "stdout",
     "output_type": "stream",
     "text": [
      "{'employee1': {'name': 'Ansh', 'age': 21}, 'employee2': {'name': 'Gyan', 'age': 24}, 'employee3': {'name': 'Aditya', 'age': 24}}\n"
     ]
    }
   ],
   "source": [
    "## Nested Dictionaries\n",
    "employees = {\n",
    "    \"employee1\": {\"name\":\"Ansh\",\"age\":21},\n",
    "    \"employee2\": {\"name\":\"Gyan\",\"age\":24},\n",
    "    \"employee3\": {\"name\":\"Aditya\",\"age\":24}\n",
    "}\n",
    "print(employees)"
   ]
  },
  {
   "cell_type": "code",
   "execution_count": 27,
   "id": "d01f6566",
   "metadata": {},
   "outputs": [
    {
     "name": "stdout",
     "output_type": "stream",
     "text": [
      "Ansh\n",
      "21\n"
     ]
    }
   ],
   "source": [
    "## Access nested dictionaries\n",
    "print(employees[\"employee1\"][\"name\"])\n",
    "print(employees[\"employee1\"][\"age\"])"
   ]
  },
  {
   "cell_type": "code",
   "execution_count": 30,
   "id": "ffe3b9c1",
   "metadata": {},
   "outputs": [
    {
     "name": "stdout",
     "output_type": "stream",
     "text": [
      "employee1:{'name': 'Ansh', 'age': 21}\n",
      "name:Ansh\n",
      "age:21\n",
      "employee2:{'name': 'Gyan', 'age': 24}\n",
      "name:Gyan\n",
      "age:24\n",
      "employee3:{'name': 'Aditya', 'age': 24}\n",
      "name:Aditya\n",
      "age:24\n"
     ]
    }
   ],
   "source": [
    "## Iterating over nested dict\n",
    "for employee_id,employee_info in employees.items():\n",
    "    print(f\"{employee_id}:{employee_info}\")\n",
    "    for key,values in employee_info.items():\n",
    "        print(f\"{key}:{values}\")\n"
   ]
  }
 ],
 "metadata": {
  "kernelspec": {
   "display_name": "base",
   "language": "python",
   "name": "python3"
  },
  "language_info": {
   "codemirror_mode": {
    "name": "ipython",
    "version": 3
   },
   "file_extension": ".py",
   "mimetype": "text/x-python",
   "name": "python",
   "nbconvert_exporter": "python",
   "pygments_lexer": "ipython3",
   "version": "3.12.7"
  }
 },
 "nbformat": 4,
 "nbformat_minor": 5
}
