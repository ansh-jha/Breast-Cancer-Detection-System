{
 "cells": [
  {
   "cell_type": "markdown",
   "id": "df6fb72b",
   "metadata": {},
   "source": [
    "### Variables in Python"
   ]
  },
  {
   "cell_type": "code",
   "execution_count": 1,
   "id": "11081e31",
   "metadata": {},
   "outputs": [
    {
     "name": "stdout",
     "output_type": "stream",
     "text": [
      "age 32\n",
      "Height: 6.1\n",
      "Name: Ansh\n",
      "True\n"
     ]
    }
   ],
   "source": [
    "## Declaring and assigning variables\n",
    "age = 32\n",
    "height = 6.1\n",
    "name = \"Ansh\"\n",
    "is_student = True\n",
    "\n",
    "## Printing the variables\n",
    "print(\"age\",age)\n",
    "print(\"Height:\",height)\n",
    "print(\"Name:\",name)\n",
    "print(is_student)\n"
   ]
  },
  {
   "cell_type": "code",
   "execution_count": 2,
   "id": "4e4c0112",
   "metadata": {},
   "outputs": [
    {
     "name": "stdout",
     "output_type": "stream",
     "text": [
      "Ansh Jha\n"
     ]
    }
   ],
   "source": [
    "## Naming convention\n",
    "## Variables name are case sensitive\n",
    "## variables name should start with a letter or underscores\n",
    "## variables names should be descriptive\n",
    "\n",
    "first_name = \"Ansh\"\n",
    "last_name = \"Jha\"\n",
    "print(first_name,last_name)"
   ]
  },
  {
   "cell_type": "code",
   "execution_count": 3,
   "id": "a225d43c",
   "metadata": {},
   "outputs": [
    {
     "name": "stdout",
     "output_type": "stream",
     "text": [
      "<class 'float'>\n"
     ]
    }
   ],
   "source": [
    "## Understanding variable types\n",
    "## Python is dynamically typed, type of variable is determined at runtime\n",
    "\n",
    "age = 21 # int\n",
    "height = 5.10 # float\n",
    "name = \"Ansh\"\n",
    "\n",
    "print(type(height))"
   ]
  },
  {
   "cell_type": "code",
   "execution_count": 5,
   "id": "e71afef6",
   "metadata": {},
   "outputs": [
    {
     "name": "stdout",
     "output_type": "stream",
     "text": [
      "21\n",
      "<class 'str'>\n"
     ]
    }
   ],
   "source": [
    "## Type Checking and Conversion\n",
    "\n",
    "type(name)\n",
    "\n",
    "## Type conversion\n",
    "age_str = str(age)\n",
    "print(age_str)\n",
    "print(type(age_str))"
   ]
  },
  {
   "cell_type": "code",
   "execution_count": 6,
   "id": "14644d65",
   "metadata": {},
   "outputs": [
    {
     "name": "stdout",
     "output_type": "stream",
     "text": [
      "<class 'int'>\n"
     ]
    }
   ],
   "source": [
    "age = \"21\"\n",
    "age_int = int(age)\n",
    "print(type(age_int))"
   ]
  },
  {
   "cell_type": "code",
   "execution_count": 8,
   "id": "c1910705",
   "metadata": {},
   "outputs": [
    {
     "name": "stdout",
     "output_type": "stream",
     "text": [
      "10 <class 'int'>\n",
      "Hello <class 'str'>\n",
      "3.14 <class 'float'>\n"
     ]
    }
   ],
   "source": [
    "## Dynamic typing\n",
    "var = 10\n",
    "print(var, type(var))\n",
    "\n",
    "var = \"Hello\"\n",
    "print(var,type(var))\n",
    "\n",
    "var = 3.14\n",
    "print(var,type(var))"
   ]
  },
  {
   "cell_type": "code",
   "execution_count": 13,
   "id": "e4712fa3",
   "metadata": {},
   "outputs": [
    {
     "name": "stdout",
     "output_type": "stream",
     "text": [
      "21 <class 'int'>\n"
     ]
    }
   ],
   "source": [
    "## Taking input from user\n",
    "age = int(input(\"What is your age?\"))\n",
    "print(age, type(age))"
   ]
  },
  {
   "cell_type": "code",
   "execution_count": 14,
   "id": "b9cebac0",
   "metadata": {},
   "outputs": [
    {
     "name": "stdout",
     "output_type": "stream",
     "text": [
      "Sum: 66.0\n",
      "Subtract: 46.0\n",
      "Multiply: 560.0\n",
      "Divide: 5.6\n"
     ]
    }
   ],
   "source": [
    "## Simple calculator\n",
    "num1 = float(input(\"Enter the first number:\"))\n",
    "num2 = float(input(\"Enter the second number:\"))\n",
    "\n",
    "sum = num1 + num2\n",
    "subtract = num1 - num2\n",
    "multiply = num1 * num2\n",
    "divide = num1 / num2\n",
    "\n",
    "print(\"Sum:\",sum)\n",
    "print(\"Subtract:\",subtract)\n",
    "print(\"Multiply:\", multiply)\n",
    "print(\"Divide:\",divide)\n"
   ]
  }
 ],
 "metadata": {
  "kernelspec": {
   "display_name": "Python 3",
   "language": "python",
   "name": "python3"
  },
  "language_info": {
   "codemirror_mode": {
    "name": "ipython",
    "version": 3
   },
   "file_extension": ".py",
   "mimetype": "text/x-python",
   "name": "python",
   "nbconvert_exporter": "python",
   "pygments_lexer": "ipython3",
   "version": "3.12.0"
  }
 },
 "nbformat": 4,
 "nbformat_minor": 5
}
