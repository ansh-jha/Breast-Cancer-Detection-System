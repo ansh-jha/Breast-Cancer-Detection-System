{
 "cells": [
  {
   "cell_type": "markdown",
   "id": "659496d3",
   "metadata": {},
   "source": [
    "## Tuples in Python"
   ]
  },
  {
   "cell_type": "code",
   "execution_count": 1,
   "id": "73edf504",
   "metadata": {},
   "outputs": [],
   "source": [
    "## Tuples ar ordered collection of items that are immutable\n",
    "empty_tuple = ()\n"
   ]
  },
  {
   "cell_type": "code",
   "execution_count": 2,
   "id": "b794fd2d",
   "metadata": {},
   "outputs": [
    {
     "name": "stdout",
     "output_type": "stream",
     "text": [
      "('Ansh', 3.14, True, 23)\n"
     ]
    }
   ],
   "source": [
    "mixed_tuple = (\"Ansh\",3.14, True, 23)\n",
    "print(mixed_tuple)"
   ]
  },
  {
   "cell_type": "code",
   "execution_count": 3,
   "id": "59adc3bd",
   "metadata": {},
   "outputs": [
    {
     "name": "stdout",
     "output_type": "stream",
     "text": [
      "(1, 2, 3, 4, 5)\n"
     ]
    }
   ],
   "source": [
    "numbers = (1,2,3,4,5)\n",
    "print(numbers)"
   ]
  },
  {
   "cell_type": "code",
   "execution_count": 4,
   "id": "53821002",
   "metadata": {},
   "outputs": [
    {
     "name": "stdout",
     "output_type": "stream",
     "text": [
      "(1, 2, 3, 4, 5, 'Ansh', 3.14, True, 23)\n"
     ]
    }
   ],
   "source": [
    "## Tuple operations\n",
    "concatenation_tuple = numbers+ mixed_tuple\n",
    "print(concatenation_tuple)"
   ]
  },
  {
   "cell_type": "code",
   "execution_count": 5,
   "id": "f6c0abd4",
   "metadata": {},
   "outputs": [
    {
     "data": {
      "text/plain": [
       "('Ansh', 3.14, True, 23, 'Ansh', 3.14, True, 23, 'Ansh', 3.14, True, 23)"
      ]
     },
     "execution_count": 5,
     "metadata": {},
     "output_type": "execute_result"
    }
   ],
   "source": [
    "mixed_tuple * 3"
   ]
  },
  {
   "cell_type": "code",
   "execution_count": 6,
   "id": "a9662062",
   "metadata": {},
   "outputs": [
    {
     "name": "stdout",
     "output_type": "stream",
     "text": [
      "[1, 'Ansh', 3, 4, 5]\n"
     ]
    }
   ],
   "source": [
    "## Lists are mutable i.e. they can be changed once assigned\n",
    "## Tuples are immutable i.e. they can't be changed once it is assigned\n",
    "lst = [1,2,3,4,5]\n",
    "lst[1] = \"Ansh\"\n",
    "print(lst)"
   ]
  },
  {
   "cell_type": "code",
   "execution_count": 10,
   "id": "9df7a309",
   "metadata": {},
   "outputs": [
    {
     "name": "stdout",
     "output_type": "stream",
     "text": [
      "3\n"
     ]
    }
   ],
   "source": [
    "numbers = (1,2,3,4,5)\n",
    "print(numbers[2])\n",
    "## numbers[2] = \"Jha\" ## Tuple object doesn't support item assignment.\n"
   ]
  },
  {
   "cell_type": "code",
   "execution_count": null,
   "id": "96db7dd2",
   "metadata": {},
   "outputs": [
    {
     "name": "stdout",
     "output_type": "stream",
     "text": [
      "1\n",
      "2\n"
     ]
    }
   ],
   "source": [
    "## Tuple methods\n",
    "print(numbers.count(1))\n",
    "print(numbers.index(3)) ## The number is on which index.\n"
   ]
  },
  {
   "cell_type": "code",
   "execution_count": 18,
   "id": "fee81bb5",
   "metadata": {},
   "outputs": [
    {
     "name": "stdout",
     "output_type": "stream",
     "text": [
      "(1, 'Hello', 3.14)\n"
     ]
    }
   ],
   "source": [
    "## Packing & Unpacking tuple\n",
    "packed_tuple=1,\"Hello\",3.14\n",
    "print(packed_tuple)"
   ]
  },
  {
   "cell_type": "code",
   "execution_count": 19,
   "id": "f6c0c6f5",
   "metadata": {},
   "outputs": [
    {
     "name": "stdout",
     "output_type": "stream",
     "text": [
      "1\n",
      "Hello\n",
      "3.14\n"
     ]
    }
   ],
   "source": [
    "## Unpacking a tuple\n",
    "a,b,c = packed_tuple\n",
    "print(a)\n",
    "print(b)\n",
    "print(c)"
   ]
  },
  {
   "cell_type": "code",
   "execution_count": 20,
   "id": "0e8d7ad6",
   "metadata": {},
   "outputs": [
    {
     "name": "stdout",
     "output_type": "stream",
     "text": [
      "1\n",
      "[2, 3, 4, 5]\n",
      "6\n"
     ]
    }
   ],
   "source": [
    "## Unapacking with *\n",
    "numbers = (1,2,3,4,5,6)\n",
    "first,*middle,last = numbers\n",
    "print(first)\n",
    "print(middle)\n",
    "print(last)"
   ]
  },
  {
   "cell_type": "code",
   "execution_count": 27,
   "id": "f9e18e9f",
   "metadata": {},
   "outputs": [
    {
     "data": {
      "text/plain": [
       "[3.14, 'Hello']"
      ]
     },
     "execution_count": 27,
     "metadata": {},
     "output_type": "execute_result"
    }
   ],
   "source": [
    "## nested list\n",
    "lst = [[1,2,3],[3.14,\"Hello\",25],[\"Ansh\",\"Jha\",21]]\n",
    "lst[0]\n",
    "lst[1][0:2]"
   ]
  },
  {
   "cell_type": "code",
   "execution_count": 24,
   "id": "2e490cb7",
   "metadata": {},
   "outputs": [
    {
     "data": {
      "text/plain": [
       "('Ansh', 'Jha', 21)"
      ]
     },
     "execution_count": 24,
     "metadata": {},
     "output_type": "execute_result"
    }
   ],
   "source": [
    "lst = [[1,2,3],[3.14,\"Hello\",25],(\"Ansh\",\"Jha\",21)]\n",
    "lst[2]\n"
   ]
  },
  {
   "cell_type": "code",
   "execution_count": 29,
   "id": "bfb5a849",
   "metadata": {},
   "outputs": [
    {
     "data": {
      "text/plain": [
       "('Jha', 21, '1AY21CS034')"
      ]
     },
     "execution_count": 29,
     "metadata": {},
     "output_type": "execute_result"
    }
   ],
   "source": [
    "nested_tuple = ((1,2,3,4),(\"Ansh\",\"Jha\",21,\"1AY21CS034\"),(3.14,True,\"Srushti\",24))\n",
    "nested_tuple[1][1:]"
   ]
  },
  {
   "cell_type": "code",
   "execution_count": 35,
   "id": "c1bcd44c",
   "metadata": {},
   "outputs": [
    {
     "name": "stdout",
     "output_type": "stream",
     "text": [
      "<class 'tuple'>\n"
     ]
    }
   ],
   "source": [
    "## Create a tuple of single item\n",
    "tuple = (\"Ansh\",)\n",
    "print(type(tuple))"
   ]
  },
  {
   "cell_type": "code",
   "execution_count": 36,
   "id": "4a544979",
   "metadata": {},
   "outputs": [
    {
     "name": "stdout",
     "output_type": "stream",
     "text": [
      "('Banana', 'Guava', 'Orange', 'Mango', 1, 2, 3, 4, 5)\n"
     ]
    }
   ],
   "source": [
    "## Join tuple operations\n",
    "fruits = (\"Banana\",\"Guava\",\"Orange\",\"Mango\")\n",
    "number = (1,2,3,4,5)\n",
    "\n",
    "join_tuple = fruits + number\n",
    "print(join_tuple)"
   ]
  },
  {
   "cell_type": "code",
   "execution_count": 37,
   "id": "f1d9e6bb",
   "metadata": {},
   "outputs": [
    {
     "name": "stdout",
     "output_type": "stream",
     "text": [
      "('Banana', 'Guava', 'Orange', 'Mango', 'Banana', 'Guava', 'Orange', 'Mango')\n"
     ]
    }
   ],
   "source": [
    "fruits = (\"Banana\",\"Guava\",\"Orange\",\"Mango\")\n",
    "\n",
    "multiply_tuple = fruits * 2\n",
    "print(multiply_tuple)"
   ]
  }
 ],
 "metadata": {
  "kernelspec": {
   "display_name": "Python 3",
   "language": "python",
   "name": "python3"
  },
  "language_info": {
   "codemirror_mode": {
    "name": "ipython",
    "version": 3
   },
   "file_extension": ".py",
   "mimetype": "text/x-python",
   "name": "python",
   "nbconvert_exporter": "python",
   "pygments_lexer": "ipython3",
   "version": "3.12.0"
  }
 },
 "nbformat": 4,
 "nbformat_minor": 5
}
