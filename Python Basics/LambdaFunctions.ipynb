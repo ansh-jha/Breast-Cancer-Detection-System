{
 "cells": [
  {
   "cell_type": "markdown",
   "id": "17ac8bb4",
   "metadata": {},
   "source": [
    "## Lambda Functions\n"
   ]
  },
  {
   "cell_type": "code",
   "execution_count": 1,
   "id": "6b4631e2",
   "metadata": {},
   "outputs": [
    {
     "data": {
      "text/plain": [
       "12"
      ]
     },
     "execution_count": 1,
     "metadata": {},
     "output_type": "execute_result"
    }
   ],
   "source": [
    "def add2nums(a,b):\n",
    "    return a+b\n",
    "\n",
    "add2nums(10,2)"
   ]
  },
  {
   "cell_type": "code",
   "execution_count": 2,
   "id": "a87a943f",
   "metadata": {},
   "outputs": [
    {
     "data": {
      "text/plain": [
       "12"
      ]
     },
     "execution_count": 2,
     "metadata": {},
     "output_type": "execute_result"
    }
   ],
   "source": [
    "addition2nums = lambda a,b : a+b\n",
    "\n",
    "addition2nums(10,2)"
   ]
  },
  {
   "cell_type": "code",
   "execution_count": 4,
   "id": "31613300",
   "metadata": {},
   "outputs": [
    {
     "data": {
      "text/plain": [
       "False"
      ]
     },
     "execution_count": 4,
     "metadata": {},
     "output_type": "execute_result"
    }
   ],
   "source": [
    "isEven = lambda num: num%2 == 0\n",
    "\n",
    "isEven(10)\n",
    "isEven(11)"
   ]
  }
 ],
 "metadata": {
  "kernelspec": {
   "display_name": "base",
   "language": "python",
   "name": "python3"
  },
  "language_info": {
   "codemirror_mode": {
    "name": "ipython",
    "version": 3
   },
   "file_extension": ".py",
   "mimetype": "text/x-python",
   "name": "python",
   "nbconvert_exporter": "python",
   "pygments_lexer": "ipython3",
   "version": "3.12.7"
  }
 },
 "nbformat": 4,
 "nbformat_minor": 5
}
